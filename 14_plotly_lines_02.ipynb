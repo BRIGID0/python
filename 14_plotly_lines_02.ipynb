{
 "cells": [
  {
   "cell_type": "markdown",
   "metadata": {},
   "source": [
    "# Tutorial: Gráficos de Líneas Avanzados en Plotly\n",
    "\n",
    "En este tutorial, profundizaremos en las funcionalidades avanzadas de gráficos de líneas en Plotly, como el uso de múltiples ejes, animaciones y personalización de líneas."
   ]
  },
  {
   "cell_type": "markdown",
   "metadata": {},
   "source": [
    "## 1. Instalación de Plotly\n",
    "\n",
    "Para comenzar, si no tienes instalado Plotly, ejecuta el siguiente comando:\n",
    "\n",
    "```bash\n",
    "!pip install plotly\n",
    "```"
   ]
  },
  {
   "cell_type": "markdown",
   "metadata": {},
   "source": [
    "## 2. Importación de Librerías\n",
    "Primero, importemos las librerías necesarias."
   ]
  },
  {
   "cell_type": "code",
   "execution_count": 1,
   "metadata": {},
   "outputs": [],
   "source": [
    "import plotly.express as px\n",
    "import plotly.graph_objects as go\n",
    "import pandas as pd\n",
    "import numpy as np"
   ]
  },
  {
   "cell_type": "markdown",
   "metadata": {},
   "source": [
    "## 3. Líneas Discontinuas y Estilos Personalizados\n",
    "Podemos modificar el estilo de las líneas para hacerlas discontinuas, ajustar su grosor, o cambiar sus colores."
   ]
  },
  {
   "cell_type": "code",
   "execution_count": 2,
   "metadata": {},
   "outputs": [],
   "source": [
    "# Crear un gráfico de líneas con estilos personalizados\n",
    "df = px.data.gapminder()\n",
    "df_chile = df[df['country'] == 'Chile']\n",
    "\n",
    "fig = go.Figure()\n",
    "\n",
    "# Añadir una línea con estilo personalizado\n",
    "fig.add_trace(go.Scatter(x=df_chile['year'], y=df_chile['gdpPercap'],\n",
    "                         mode='lines',\n",
    "                         name='Chile',\n",
    "                         line=dict(dash='dash', color='firebrick', width=4)))\n",
    "\n",
    "# Personalizar el gráfico\n",
    "fig.update_layout(title='PIB per cápita de Chile (Línea Discontinua)',\n",
    "                  xaxis_title='Año',\n",
    "                  yaxis_title='PIB per cápita')\n",
    "\n",
    "fig.show()"
   ]
  },
  {
   "cell_type": "markdown",
   "metadata": {},
   "source": [
    "### Explicación:\n",
    "- **dash='dash'**: Hace que la línea sea discontinua (puedes usar otros estilos como 'dot').\n",
    "- **color='firebrick'**: Cambia el color de la línea.\n",
    "- **width=4**: Ajusta el grosor de la línea."
   ]
  },
  {
   "cell_type": "markdown",
   "metadata": {},
   "source": [
    "## 4. Gráfico de Líneas con Múltiples Ejes Y\n",
    "Plotly permite crear gráficos de líneas con varios ejes Y para comparar variables que tienen diferentes escalas."
   ]
  },
  {
   "cell_type": "code",
   "execution_count": 3,
   "metadata": {},
   "outputs": [],
   "source": [
    "# Crear un gráfico de líneas con dos ejes Y\n",
    "fig = go.Figure()\n",
    "\n",
    "# Añadir la primera línea (PIB per cápita)\n",
    "fig.add_trace(go.Scatter(x=df_chile['year'], y=df_chile['gdpPercap'],\n",
    "                         name='PIB per cápita',\n",
    "                         line=dict(color='royalblue')))\n",
    "\n",
    "# Añadir la segunda línea (expectativa de vida) con un segundo eje Y\n",
    "fig.add_trace(go.Scatter(x=df_chile['year'], y=df_chile['lifeExp'],\n",
    "                         name='Expectativa de vida',\n",
    "                         yaxis='y2',\n",
    "                         line=dict(color='green')))\n",
    "\n",
    "# Actualizar el diseño para incluir un segundo eje Y\n",
    "fig.update_layout(\n",
    "    title='PIB per cápita y Expectativa de vida en Chile',\n",
    "    xaxis_title='Año',\n",
    "    yaxis_title='PIB per cápita',\n",
    "    yaxis2=dict(title='Expectativa de vida', overlaying='y', side='right'))\n",
    "\n",
    "fig.show()"
   ]
  },
  {
   "cell_type": "markdown",
   "metadata": {},
   "source": [
    "### Explicación:\n",
    "- **yaxis2**: Define un segundo eje Y, superpuesto al primero pero colocado a la derecha."
   ]
  },
  {
   "cell_type": "markdown",
   "metadata": {},
   "source": [
    "## 5. Gráficos de Líneas con Animación\n",
    "Puedes crear gráficos de líneas animados para observar cómo cambia una variable a lo largo del tiempo o según otra dimensión."
   ]
  },
  {
   "cell_type": "code",
   "execution_count": 4,
   "metadata": {},
   "outputs": [],
   "source": [
    "# Crear un gráfico de líneas animado\n",
    "fig = px.line(df, x='year', y='gdpPercap', color='country',\n",
    "              title='PIB per cápita en varios países',\n",
    "              animation_frame='year',\n",
    "              animation_group='country',\n",
    "              range_y=[0, 60000])\n",
    "\n",
    "fig.show()"
   ]
  },
  {
   "cell_type": "markdown",
   "metadata": {},
   "source": [
    "### Explicación:\n",
    "- **animation_frame**: Define la dimensión a lo largo de la cual se animará el gráfico (en este caso, 'year').\n",
    "- **animation_group**: Agrupa los datos por país para mantener consistencia en la animación."
   ]
  },
  {
   "cell_type": "markdown",
   "metadata": {},
   "source": [
    "## 6. Gráficos de Líneas con Rangos Interactivos\n",
    "Puedes añadir controles para que los usuarios ajusten el rango de los ejes, lo que es útil cuando se trabaja con grandes rangos de datos o series temporales."
   ]
  },
  {
   "cell_type": "code",
   "execution_count": 5,
   "metadata": {},
   "outputs": [],
   "source": [
    "# Crear un gráfico de líneas con rangos interactivos\n",
    "fig = px.line(df_chile, x='year', y='gdpPercap',\n",
    "              title='PIB per cápita de Chile con control de rango')\n",
    "\n",
    "# Añadir un rango de fechas para el eje X\n",
    "fig.update_xaxes(rangeslider_visible=True)\n",
    "\n",
    "fig.show()"
   ]
  },
  {
   "cell_type": "markdown",
   "metadata": {},
   "source": [
    "### Explicación:\n",
    "- **rangeslider_visible=True**: Añade un control interactivo de rango para el eje X."
   ]
  },
  {
   "cell_type": "markdown",
   "metadata": {},
   "source": [
    "## 7. Gráficos de Líneas con Etiquetas Dinámicas\n",
    "Podemos añadir etiquetas dinámicas que aparezcan al pasar el ratón por encima de la gráfica."
   ]
  },
  {
   "cell_type": "code",
   "execution_count": 6,
   "metadata": {},
   "outputs": [],
   "source": [
    "# Crear un gráfico de líneas con etiquetas dinámicas\n",
    "fig = go.Figure()\n",
    "\n",
    "# Añadir una línea con etiquetas dinámicas\n",
    "fig.add_trace(go.Scatter(x=df_chile['year'], y=df_chile['gdpPercap'],\n",
    "                         mode='lines+markers+text',\n",
    "                         text=df_chile['gdpPercap'],\n",
    "                         textposition='top center',\n",
    "                         name='PIB per cápita'))\n",
    "\n",
    "# Personalizar el gráfico\n",
    "fig.update_layout(title='PIB per cápita con etiquetas dinámicas',\n",
    "                  xaxis_title='Año',\n",
    "                  yaxis_title='PIB per cápita')\n",
    "\n",
    "fig.show()"
   ]
  },
  {
   "cell_type": "markdown",
   "metadata": {},
   "source": [
    "### Explicación:\n",
    "- **textposition='top center'**: Coloca las etiquetas dinámicas encima de los puntos de datos."
   ]
  },
  {
   "cell_type": "markdown",
   "metadata": {},
   "source": [
    "## 8. Conclusión\n",
    "En este tutorial, exploramos aspectos avanzados de los gráficos de líneas en Plotly, como estilos personalizados, múltiples ejes, animaciones y etiquetas dinámicas. Estas características te permitirán crear visualizaciones más interactivas y comprensibles."
   ]
  }
 ],
 "metadata": {
  "kernelspec": {
   "display_name": "Python 3",
   "language": "python",
   "name": "python3"
  },
  "language_info": {
   "name": "python",
   "version": "3.8.5"
  }
 },
 "nbformat": 4,
 "nbformat_minor": 4
}
