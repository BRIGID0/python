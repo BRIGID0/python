{
 "cells": [
  {
   "cell_type": "markdown",
   "metadata": {},
   "source": [
    "# Slicing en NumPy\n",
    "\n",
    "El *slicing* (corte) en NumPy te permite seleccionar subconjuntos de un arreglo. Esto es útil para manipular y extraer datos de manera eficiente. A continuación, se presentan ejemplos y explicaciones sobre cómo funciona el *slicing*.\n",
    "\n",
    "## Sintaxis del Slicing\n",
    "\n",
    "La sintaxis básica para el *slicing* es:\n",
    "\n",
    "`arr[start:stop:step]`\n",
    "\n",
    "- **`start`**: Índice inicial (inclusivo). Si no se especifica, el valor predeterminado es `0`.\n",
    "- **`stop`**: Índice final (exclusivo). Si no se especifica, el valor predeterminado es el tamaño del arreglo.\n",
    "- **`step`**: Paso o intervalo. Si no se especifica, el valor predeterminado es `1`."
   ]
  },
  {
   "cell_type": "code",
   "metadata": {},
   "source": [
    "import numpy as np\n",
    "\n",
    "# Crear un arreglo unidimensional\n",
    "arr = np.array([10, 20, 30, 40, 50, 60, 70, 80])\n",
    "\n",
    "# 1. Seleccionar elementos de una sección\n",
    "print(\"Elementos desde el índice 2 al 5 (5 excluido):\", arr[2:5])\n",
    "\n",
    "# 2. Omitir el inicio o el fin\n",
    "print(\"Elementos desde el índice 3 hasta el final:\", arr[3:])\n",
    "print(\"Elementos desde el inicio hasta el índice 4 (sin incluirlo):\", arr[:4])\n",
    "\n",
    "# 3. Usar un paso para saltar elementos\n",
    "print(\"Todos los elementos, pero seleccionando uno de cada dos:\", arr[::2])\n",
    "print(\"Desde el índice 1 hasta el final, seleccionando uno de cada dos:\", arr[1::2])\n",
    "\n",
    "# 4. Índices negativos\n",
    "print(\"Últimos 3 elementos:\", arr[-3:])\n",
    "print(\"Todo el arreglo pero en orden inverso:\", arr[::-1])"
   ]
  },
  {
   "cell_type": "markdown",
   "metadata": {},
   "source": [
    "## Slicing en Arreglos Multidimensionales\n",
    "\n",
    "El *slicing* también se aplica a arreglos multidimensionales (matrices). Puedes especificar cortes para cada dimensión.\n",
    "\n",
    "### Ejemplo de Arreglo Bidimensional\n",
    "\n",
    "```python\n",
    "arr2d = np.array([[1, 2, 3, 4],\n",
    "                  [5, 6, 7, 8],\n",
    "                  [9, 10, 11, 12]])\n",
    "```\n",
    "\n",
    "#### 1. Seleccionar una submatriz\n",
    "Seleccionar las dos primeras filas y las dos primeras columnas:\n",
    "\n",
    "```python\n",
    "print(arr2d[:2, :2])\n",
    "```\n",
    "\n",
    "#### 2. Seleccionar una fila específica\n",
    "Seleccionar la fila 1 (segunda fila):\n",
    "\n",
    "```python\n",
    "print(arr2d[1, :])\n",
    "```\n",
    "\n",
    "#### 3. Seleccionar una columna específica\n",
    "Seleccionar la columna 2 (tercera columna):\n",
    "\n",
    "```python\n",
    "print(arr2d[:, 2])\n",
    "```\n",
    "\n",
    "#### 4. Cortes avanzados con pasos\n",
    "Seleccionar cada segunda fila y columna:\n",
    "\n",
    "```python\n",
    "print(arr2d[::2, ::2])\n",
    "```\n",
    "\n",
    "## Resumen\n",
    "- El *slicing* te permite manipular y extraer datos de arreglos de manera rápida y eficiente.\n",
    "- Puedes aplicar el *slicing* a arreglos unidimensionales y multidimensionales.\n",
    "- Los índices negativos te permiten contar desde el final del arreglo."
   ]
  }
 ],
 "metadata": {
  "kernelspec": {
   "display_name": "Python 3",
   "language": "python",
   "name": "python3"
  },
  "language_info": {
   "codemirror_mode": {
    "name": "ipython",
    "version": 3
   },
   "file_extension": ".py",
   "mimetype": "text/x-python",
   "name": "python",
   "nbconvert_exporter": "python",
   "version": "3.8.5"
  }
 },
 "nbformat": 4,
 "nbformat_minor": 4
}
