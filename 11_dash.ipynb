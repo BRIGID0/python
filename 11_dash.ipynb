{
 "cells": [
  {
   "cell_type": "markdown",
   "metadata": {},
   "source": [
    "# Tutorial Dash\n",
    "Este tutorial te enseñará a crear un dashboard interactivo utilizando **Plotly** y **Dash**.\n",
    "\n",
    "## ¿Qué es Dash?\n",
    "**Dash** es un framework que te permite crear aplicaciones web interactivas con Python. Es muy utilizado para crear dashboards que contienen gráficos de **Plotly**.\n",
    "\n",
    "### Instalación de Dash\n",
    "Primero, instala Dash usando `pip`:\n",
    "```bash\n",
    "pip install dash\n",
    "```\n",
    "Una vez instalado, podrás usar las siguientes librerías para construir tu aplicación.\n"
   ]
  },
  {
   "cell_type": "markdown",
   "metadata": {},
   "source": [
    "## Ejemplo básico de un Dashboard\n",
    "Este es un ejemplo de cómo crear un dashboard interactivo básico utilizando **Plotly** y **Dash**.\n",
    "El gráfico muestra las ventas anuales en una serie temporal, y el código usa **Dash** para mostrarlo en un entorno web.\n"
   ]
  },
  {
   "cell_type": "code",
   "execution_count": null,
   "metadata": {},
   "outputs": [],
   "source": [
    "import dash\n",
    "from dash import dcc, html\n",
    "from dash.dependencies import Input, Output\n",
    "import plotly.express as px\n",
    "import pandas as pd\n",
    "\n",
    "# Crear la app de Dash\n",
    "app = dash.Dash(__name__)\n",
    "\n",
    "# Datos de ejemplo\n",
    "df = pd.DataFrame({\n",
    "    \"Año\": [2015, 2016, 2017, 2018, 2019, 2020],\n",
    "    \"Ventas\": [100, 150, 200, 250, 300, 350]\n",
    "})\n",
    "\n",
    "# Crear un gráfico de líneas con Plotly\n",
    "fig = px.line(df, x=\"Año\", y=\"Ventas\", title=\"Ventas Anuales\")\n",
    "\n",
    "# Layout de la aplicación\n",
    "app.layout = html.Div(children=[\n",
    "    html.H1(children='Dashboard de Ventas'),\n",
    "\n",
    "    html.Div(children='''Visualización de datos de ventas usando Plotly y Dash.'''),\n",
    "\n",
    "    dcc.Graph(\n",
    "        id='grafico-ventas',\n",
    "        figure=fig\n",
    "    )\n",
    "])\n",
    "\n",
    "# Ejecutar la aplicación\n",
    "if __name__ == '__main__':\n",
    "    app.run_server(debug=True)\n"
   ]
  },
  {
   "cell_type": "markdown",
   "metadata": {},
   "source": [
    "## Agregar interactividad al Dashboard\n",
    "Ahora vamos a agregar un elemento interactivo. El siguiente código crea un dropdown que permite al usuario seleccionar una categoría de datos y actualizar el gráfico en tiempo real.\n",
    "\n",
    "### Ejemplo con interactividad:\n",
    "- Usa un **Dropdown** para elegir entre categorías.\n",
    "- El gráfico se actualiza dependiendo de la selección del usuario."
   ]
  },
  {
   "cell_type": "code",
   "execution_count": null,
   "metadata": {},
   "outputs": [],
   "source": [
    "import dash\n",
    "from dash import dcc, html\n",
    "from dash.dependencies import Input, Output\n",
    "import plotly.express as px\n",
    "import pandas as pd\n",
    "\n",
    "# Crear la app de Dash\n",
    "app = dash.Dash(__name__)\n",
    "\n",
    "# Datos de ejemplo\n",
    "df = pd.DataFrame({\n",
    "    \"Año\": [2015, 2016, 2017, 2018, 2019, 2020],\n",
    "    \"Ventas\": [100, 150, 200, 250, 300, 350],\n",
    "    \"Categoria\": [\"A\", \"A\", \"B\", \"B\", \"C\", \"C\"]\n",
    "})\n",
    "\n",
    "# Layout de la aplicación\n",
    "app.layout = html.Div(children=[\n",
    "    html.H1('Dashboard interactivo'),\n",
    "\n",
    "    dcc.Dropdown(\n",
    "        id='categoria-dropdown',\n",
    "        options=[{'label': c, 'value': c} for c in df['Categoria'].unique()],\n",
    "        value='A',\n",
    "        clearable=False\n",
    "    ),\n",
    "\n",
    "    dcc.Graph(id='grafico-ventas')\n",
    "])\n",
    "\n",
    "# Callback para actualizar el gráfico según la selección\n",
    "@app.callback(\n",
    "    Output('grafico-ventas', 'figure'),\n",
    "    [Input('categoria-dropdown', 'value')]\n",
    ")\n",
    "def update_graph(selected_category):\n",
    "    # Filtrar los datos según la categoría seleccionada\n",
    "    filtered_df = df[df['Categoria'] == selected_category]\n",
    "    fig = px.line(filtered_df, x=\"Año\", y=\"Ventas\", title=f'Ventas de la categoría {selected_category}')\n",
    "    return fig\n",
    "\n",
    "# Ejecutar la aplicación\n",
    "if __name__ == '__main__':\n",
    "    app.run_server(debug=True)\n"
   ]
  },
  {
   "cell_type": "markdown",
   "metadata": {},
   "source": [
    "## Conclusión\n",
    "Con Dash y Plotly puedes crear dashboards interactivos de manera sencilla. Puedes agregar gráficos dinámicos, menús desplegables, sliders, entre otros elementos interactivos, y personalizar la visualización de datos en tiempo real.\n",
    "\n",
    "En este tutorial aprendiste a:\n",
    "- Crear una aplicación de Dash.\n",
    "- Insertar gráficos de Plotly en el dashboard.\n",
    "- Agregar un dropdown para permitir interactividad.\n",
    "\n",
    "Si quieres agregar más interactividad, Dash permite crear aplicaciones muy avanzadas con múltiples gráficos y controles. ¡Explora más de Dash para llevar tus dashboards al siguiente nivel!"
   ]
  }
 ],
 "metadata": {
  "kernelspec": {
   "display_name": "Python 3",
   "language": "python",
   "name": "python3"
  },
  "language_info": {
   "codemirror_mode": {
    "name": "ipython",
    "version": 3
   },
   "file_extension": ".py",
   "mimetype": "text/x-python",
   "name": "python",
   "nbconvert_exporter": "python",
   "version": "3.8.5"
  }
 },
 "nbformat": 4,
 "nbformat_minor": 4
}
