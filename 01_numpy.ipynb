{
 "cells": [
  {
   "cell_type": "markdown",
   "id": "0a867a90",
   "metadata": {},
   "source": [
    "# Aprende NumPy - Guía para Principiantes\n",
    "\n",
    "Este cuaderno proporciona ejemplos para ayudarte a comenzar con **NumPy**, el paquete fundamental para la computación científica con Python. NumPy ofrece soporte para arreglos (arrays), matrices y muchas funciones matemáticas para operar con estos arreglos.\n",
    "\n",
    "## Tabla de Contenidos:\n",
    "1. [Introducción a NumPy](#introduccion)\n",
    "2. [Creación de Arreglos](#creacion-arreglos)\n",
    "3. [Operaciones con Arreglos](#operaciones-arreglos)\n",
    "4. [Indexación y Slicing](#indexacion-slicing)\n",
    "5. [Funciones Matemáticas](#funciones-matematicas)\n",
    "6. [Broadcasting](#broadcasting)\n",
    "7. [Cambio de Forma en Arreglos](#cambio-forma)\n"
   ]
  },
  {
   "cell_type": "code",
   "execution_count": 1,
   "id": "51a8af28",
   "metadata": {},
   "outputs": [],
   "source": [
    "\n",
    "import numpy as np\n",
    "\n",
    "# Introducción a NumPy\n",
    "# NumPy es una biblioteca para trabajar con datos numéricos. Introduce el concepto de arreglos,\n",
    "# que son estructuras de datos similares a listas, pero más eficientes para operaciones numéricas.\n"
   ]
  },
  {
   "cell_type": "markdown",
   "id": "e508d5a0",
   "metadata": {},
   "source": [
    "## Creación de Arreglos <a id='creacion-arreglos'></a>"
   ]
  },
  {
   "cell_type": "code",
   "execution_count": 7,
   "id": "d0d4d162",
   "metadata": {},
   "outputs": [
    {
     "name": "stdout",
     "output_type": "stream",
     "text": [
      "Arreglo 1D: [1 2 3 4 5]\n",
      "Arreglo 2D:\n",
      " [[1 2 3]\n",
      " [4 5 6]]\n",
      "Arreglo de ceros:\n",
      " [[0. 0. 0.]\n",
      " [0. 0. 0.]]\n",
      "Arreglo de unos:\n",
      " [[1. 1. 1.]\n",
      " [1. 1. 1.]\n",
      " [1. 1. 1.]]\n",
      "Arreglo con rango: [ 3  4  5  6  7  8  9 10]\n"
     ]
    }
   ],
   "source": [
    "\n",
    "# Crear un arreglo 1D\n",
    "arr1 = np.array([1, 2, 3, 4, 5])\n",
    "print(\"Arreglo 1D:\", arr1)\n",
    "\n",
    "# Crear un arreglo 2D\n",
    "arr2 = np.array([[1, 2, 3], [4, 5, 6]])\n",
    "print(\"Arreglo 2D:\\n\", arr2)\n",
    "\n",
    "# Crear arreglos con ceros y unos\n",
    "ceros_arr = np.zeros((2, 3))\n",
    "unos_arr = np.ones((3, 3))\n",
    "\n",
    "print(\"Arreglo de ceros:\\n\", ceros_arr)\n",
    "print(\"Arreglo de unos:\\n\", unos_arr)\n",
    "\n",
    "# Crear un arreglo con un rango de valores\n",
    "# numpy.arange([start, ]stop[, step, ], dtype=None)\n",
    "# start (opcional): Es el valor inicial del rango. Si no se proporciona, el valor predeterminado es 0.\n",
    "# stop: Es el valor final del rango (no incluido en el arreglo).\n",
    "# step (opcional): Es el incremento entre cada número en el rango. El valor predeterminado es 1.\n",
    "# dtype (opcional): Especifica el tipo de dato de los elementos en el arreglo resultante. Si no se proporciona, NumPy intentará inferir el tipo automáticamente.\n",
    "\n",
    "rango_arr = np.arange(3, 11, 1)\n",
    "print(\"Arreglo con rango:\", rango_arr)\n"
   ]
  },
  {
   "cell_type": "markdown",
   "id": "138a3d59",
   "metadata": {},
   "source": [
    "## Operaciones con Arreglos <a id='operaciones-arreglos'></a>"
   ]
  },
  {
   "cell_type": "code",
   "execution_count": 8,
   "id": "bd6310e9",
   "metadata": {},
   "outputs": [
    {
     "name": "stdout",
     "output_type": "stream",
     "text": [
      "Después de sumar 5: [15 25 35 45]\n",
      "Después de multiplicar por 2: [20 40 60 80]\n",
      "Suma de arreglos: [5 7 9]\n",
      "Producto de arreglos: [ 4 10 18]\n"
     ]
    }
   ],
   "source": [
    "\n",
    "# Operaciones básicas con arreglos\n",
    "arr = np.array([10, 20, 30, 40])\n",
    "\n",
    "# Suma\n",
    "resultado_suma = arr + 5\n",
    "print(\"Después de sumar 5:\", resultado_suma)\n",
    "\n",
    "# Multiplicación\n",
    "resultado_mult = arr * 2\n",
    "print(\"Después de multiplicar por 2:\", resultado_mult)\n",
    "\n",
    "# Operaciones entre dos arreglos (elemento por elemento)\n",
    "arr_a = np.array([1, 2, 3])\n",
    "arr_b = np.array([4, 5, 6])\n",
    "suma_arreglos = arr_a + arr_b\n",
    "producto_arreglos = arr_a * arr_b\n",
    "\n",
    "print(\"Suma de arreglos:\", suma_arreglos)\n",
    "print(\"Producto de arreglos:\", producto_arreglos)\n"
   ]
  },
  {
   "cell_type": "markdown",
   "id": "4d217b2c",
   "metadata": {},
   "source": [
    "## Indexación y Slicing <a id='indexacion-slicing'></a>"
   ]
  },
  {
   "cell_type": "code",
   "execution_count": 9,
   "id": "48efd09f",
   "metadata": {},
   "outputs": [
    {
     "name": "stdout",
     "output_type": "stream",
     "text": [
      "Primer elemento: 10\n",
      "Último elemento: 50\n",
      "Arreglo cortado (1:4): [20 30 40]\n",
      "Arreglo modificado: [100  20  30  40  50]\n"
     ]
    }
   ],
   "source": [
    "\n",
    "# Indexación y slicing en arreglos NumPy\n",
    "arr = np.array([10, 20, 30, 40, 50])\n",
    "\n",
    "# Acceso a elementos\n",
    "print(\"Primer elemento:\", arr[0])\n",
    "print(\"Último elemento:\", arr[-1])\n",
    "\n",
    "# Slicing\n",
    "corte_arr = arr[1:4]\n",
    "print(\"Arreglo cortado (1:4):\", corte_arr)\n",
    "\n",
    "# Modificar elementos\n",
    "arr[0] = 100\n",
    "print(\"Arreglo modificado:\", arr)\n"
   ]
  },
  {
   "cell_type": "markdown",
   "id": "35d19507",
   "metadata": {},
   "source": [
    "## Funciones Matemáticas <a id='funciones-matematicas'></a>"
   ]
  },
  {
   "cell_type": "code",
   "execution_count": 2,
   "id": "c48dd5f0",
   "metadata": {},
   "outputs": [
    {
     "name": "stdout",
     "output_type": "stream",
     "text": [
      "Raíz cuadrada del arreglo: [1.         1.41421356 1.73205081 2.         2.23606798]\n",
      "Exponencial del arreglo: [  2.71828183   7.3890561   20.08553692  54.59815003 148.4131591 ]\n",
      "Media: 3.0\n",
      "Desviación estándar: 1.4142135623730951\n"
     ]
    }
   ],
   "source": [
    "\n",
    "# Usando funciones matemáticas en NumPy\n",
    "arr = np.array([1, 2, 3, 4, 5])\n",
    "\n",
    "# Raíz cuadrada\n",
    "sqrt_arr = np.sqrt(arr)\n",
    "print(\"Raíz cuadrada del arreglo:\", sqrt_arr)\n",
    "\n",
    "# Exponencial\n",
    "exp_arr = np.exp(arr)\n",
    "print(\"Exponencial del arreglo:\", exp_arr)\n",
    "\n",
    "# Media y desviación estándar\n",
    "media = np.mean(arr)\n",
    "desv_std = np.std(arr)\n",
    "\n",
    "print(\"Media:\", media)\n",
    "print(\"Desviación estándar:\", desv_std)\n"
   ]
  },
  {
   "cell_type": "markdown",
   "id": "8598fe9b",
   "metadata": {},
   "source": [
    "## Broadcasting <a id='broadcasting'></a>"
   ]
  },
  {
   "cell_type": "code",
   "execution_count": 6,
   "id": "3ce41f02",
   "metadata": {},
   "outputs": [
    {
     "name": "stdout",
     "output_type": "stream",
     "text": [
      "Arreglo 1:\n",
      " [1 2 3] \n",
      "\n",
      "Arreglo 2:\n",
      " [[1]\n",
      " [2]\n",
      " [3]] \n",
      "\n",
      "Resultado de Broadcasting:\n",
      " [[2 3 4]\n",
      " [3 4 5]\n",
      " [4 5 6]]\n"
     ]
    }
   ],
   "source": [
    "\n",
    "# Broadcasting permite que NumPy realice operaciones con arreglos de diferentes formas\n",
    "arr1 = np.array([1, 2, 3])\n",
    "arr2 = np.array([[1], [2], [3]])\n",
    "print(\"Arreglo 1:\\n\", arr1,\"\\n\")\n",
    "print(\"Arreglo 2:\\n\", arr2,\"\\n\")\n",
    "# Suma con broadcasting\n",
    "resultado_broadcasting = arr1 + arr2\n",
    "print(\"Resultado de Broadcasting:\\n\", resultado_broadcasting)\n"
   ]
  },
  {
   "cell_type": "markdown",
   "id": "15305dbe",
   "metadata": {},
   "source": [
    "## Cambio de Forma en Arreglos <a id='cambio-forma'></a>"
   ]
  },
  {
   "cell_type": "code",
   "execution_count": 8,
   "id": "5fc8a21a",
   "metadata": {},
   "outputs": [
    {
     "name": "stdout",
     "output_type": "stream",
     "text": [
      "Arreglo con nueva forma (3x3):\n",
      " [[1 2 3]\n",
      " [4 5 6]\n",
      " [7 8 9]]\n",
      "Arreglo aplanado:\n",
      " [1 2 3 4 5 6 7 8 9]\n"
     ]
    }
   ],
   "source": [
    "\n",
    "# Cambiando la forma de un arreglo\n",
    "arr = np.arange(1, 10)\n",
    "arr_reshaped = arr.reshape(3, 3)\n",
    "print(\"Arreglo con nueva forma (3x3):\\n\", arr_reshaped)\n",
    "\n",
    "# Aplanar el arreglo\n",
    "arr_aplanado = arr_reshaped.flatten()\n",
    "print(\"Arreglo aplanado:\\n\", arr_aplanado)\n"
   ]
  }
 ],
 "metadata": {
  "kernelspec": {
   "display_name": "Python 3 (ipykernel)",
   "language": "python",
   "name": "python3"
  },
  "language_info": {
   "codemirror_mode": {
    "name": "ipython",
    "version": 3
   },
   "file_extension": ".py",
   "mimetype": "text/x-python",
   "name": "python",
   "nbconvert_exporter": "python",
   "pygments_lexer": "ipython3",
   "version": "3.11.9"
  }
 },
 "nbformat": 4,
 "nbformat_minor": 5
}
