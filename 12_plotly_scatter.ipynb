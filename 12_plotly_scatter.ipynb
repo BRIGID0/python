{
 "cells": [
  {
   "cell_type": "markdown",
   "metadata": {},
   "source": [
    "# Tutorial Completo de Gráficos de Dispersión (Scatter Plots) con Plotly\n",
    "\n",
    "En este tutorial, exploraremos las diferentes opciones que ofrece **Plotly** para crear gráficos de dispersión. Los gráficos de dispersión son una excelente herramienta para visualizar la relación entre dos variables cuantitativas y observar posibles patrones.\n",
    "\n",
    "## ¿Qué es un gráfico de dispersión?\n",
    "Un gráfico de dispersión (scatter plot) muestra puntos en un plano cartesiano, donde cada punto representa un par de valores de dos variables diferentes. Esto permite visualizar correlaciones o tendencias entre las variables.\n",
    "\n",
    "### Instalación de Plotly\n",
    "Si aún no tienes Plotly instalado, usa el siguiente comando para instalarlo:\n",
    "```bash\n",
    "pip install plotly\n",
    "```\n"
   ]
  },
  {
   "cell_type": "markdown",
   "metadata": {},
   "source": [
    "## 1. Gráfico de Dispersión Básico\n",
    "Comenzamos con un gráfico de dispersión básico utilizando el conjunto de datos de ejemplo de **Plotly Express**. Este conjunto de datos contiene información sobre autos y sus características.\n",
    "\n",
    "### Ejemplo:\n"
   ]
  },
  {
   "cell_type": "code",
   "execution_count": null,
   "metadata": {},
   "outputs": [],
   "source": [
    "import plotly.express as px\n",
    "\n",
    "# Cargar el dataset integrado de Plotly (mpg: millas por galón de autos)\n",
    "df = px.data.mpg()\n",
    "\n",
    "# Crear un gráfico de dispersión básico\n",
    "fig = px.scatter(df, x='displacement', y='mpg', title='Relación entre Desplazamiento y MPG')\n",
    "fig.show()"
   ]
  },
  {
   "cell_type": "markdown",
   "metadata": {},
   "source": [
    "En este gráfico básico:\n",
    "- `x='displacement'`: Variable del eje X, que representa el desplazamiento del motor del auto.\n",
    "- `y='mpg'`: Variable del eje Y, que muestra las millas por galón del auto.\n",
    "- `title`: Agrega un título al gráfico.\n"
   ]
  },
  {
   "cell_type": "markdown",
   "metadata": {},
   "source": [
    "## 2. Personalizar los Puntos\n",
    "Ahora, vamos a agregar personalización. Puedes cambiar el color de los puntos, su tamaño, y hasta usar diferentes formas o símbolos para distinguir diferentes categorías.\n",
    "\n",
    "### Ejemplo con personalización:\n"
   ]
  },
  {
   "cell_type": "code",
   "execution_count": null,
   "metadata": {},
   "outputs": [],
   "source": [
    "# Crear un gráfico de dispersión personalizado\n",
    "fig = px.scatter(df, x='displacement', y='mpg', \n",
    "                 color='origin',  # Color según el origen del auto\n",
    "                 size='horsepower',  # Tamaño de los puntos según el caballaje\n",
    "                 hover_name='name',  # Mostrar el nombre del auto al pasar el cursor\n",
    "                 title='Relación entre Desplazamiento y MPG con Personalización')\n",
    "\n",
    "fig.show()"
   ]
  },
  {
   "cell_type": "markdown",
   "metadata": {},
   "source": [
    "En este gráfico:\n",
    "- `color='origin'`: Los puntos están coloreados según el país de origen del auto.\n",
    "- `size='horsepower'`: El tamaño de los puntos depende de la potencia del auto (caballos de fuerza).\n",
    "- `hover_name='name'`: Al pasar el cursor sobre un punto, se muestra el nombre del auto.\n"
   ]
  },
  {
   "cell_type": "markdown",
   "metadata": {},
   "source": [
    "## 3. Añadir Facetas (Subgráficos)\n",
    "Podemos dividir el gráfico en subgráficos (facetas) según diferentes categorías. Esto es útil para comparar visualmente diferentes grupos de datos.\n",
    "\n",
    "### Ejemplo con Facetas:\n"
   ]
  },
  {
   "cell_type": "code",
   "execution_count": null,
   "metadata": {},
   "outputs": [],
   "source": [
    "# Crear un gráfico de dispersión con facetas según el origen del auto\n",
    "fig = px.scatter(df, x='displacement', y='mpg', \n",
    "                 color='origin', size='horsepower', \n",
    "                 facet_col='origin',  # Dividir en facetas por origen\n",
    "                 title='Relación entre Desplazamiento y MPG con Facetas')\n",
    "\n",
    "fig.show()"
   ]
  },
  {
   "cell_type": "markdown",
   "metadata": {},
   "source": [
    "Este gráfico muestra subgráficos separados para cada región de origen de los autos (`facet_col='origin'`)."
   ]
  },
  {
   "cell_type": "markdown",
   "metadata": {},
   "source": [
    "## 4. Añadir Tendencias a los Gráficos de Dispersión\n",
    "Es posible agregar líneas de tendencia (regresiones) para observar relaciones lineales o no lineales entre las variables.\n",
    "\n",
    "### Ejemplo con Línea de Tendencia:\n"
   ]
  },
  {
   "cell_type": "code",
   "execution_count": null,
   "metadata": {},
   "outputs": [],
   "source": [
    "# Crear un gráfico de dispersión con línea de tendencia\n",
    "fig = px.scatter(df, x='displacement', y='mpg', \n",
    "                 color='origin', size='horsepower', \n",
    "                 trendline='ols',  # Agregar línea de tendencia (regresión lineal)\n",
    "                 title='Gráfico con Línea de Tendencia (Regresión Lineal)')\n",
    "\n",
    "fig.show()"
   ]
  },
  {
   "cell_type": "markdown",
   "metadata": {},
   "source": [
    "Con `trendline='ols'`, se agrega una línea de tendencia de regresión lineal a cada grupo de datos."
   ]
  },
  {
   "cell_type": "markdown",
   "metadata": {},
   "source": [
    "## 5. Gráficos de Dispersión 3D\n",
    "Plotly también permite crear gráficos de dispersión en 3D, lo cual es muy útil cuando queremos visualizar la relación entre tres variables al mismo tiempo.\n",
    "\n",
    "### Ejemplo de Gráfico 3D:\n"
   ]
  },
  {
   "cell_type": "code",
   "execution_count": null,
   "metadata": {},
   "outputs": [],
   "source": [
    "# Crear un gráfico de dispersión 3D\n",
    "fig = px.scatter_3d(df, x='displacement', y='mpg', z='horsepower', \n",
    "                    color='origin',  # Colorear según el origen del auto\n",
    "                    title='Gráfico de Dispersión 3D: Desplazamiento vs MPG vs Caballos de Fuerza')\n",
    "\n",
    "fig.show()"
   ]
  },
  {
   "cell_type": "markdown",
   "metadata": {},
   "source": [
    "Este gráfico de dispersión 3D muestra la relación entre el desplazamiento del motor, el consumo de combustible (mpg) y la potencia (caballos de fuerza), con los puntos coloreados según el origen del auto."
   ]
  },
  {
   "cell_type": "markdown",
   "metadata": {},
   "source": [
    "## 6. Agregar Animación\n",
    "Plotly permite crear gráficos animados, donde los puntos cambian en función de una variable adicional (por ejemplo, el tiempo). Esto es útil para mostrar cómo evolucionan las relaciones entre las variables con el tiempo o con otra dimensión.\n",
    "\n",
    "### Ejemplo con Animación:\n"
   ]
  },
  {
   "cell_type": "code",
   "execution_count": null,
   "metadata": {},
   "outputs": [],
   "source": [
    "# Crear un gráfico de dispersión animado\n",
    "df = px.data.gapminder()  # Usar el dataset de Gapminder para más variables\n",
    "fig = px.scatter(df, x='gdpPercap', y='lifeExp', \n",
    "                 color='continent', size='pop', hover_name='country', \n",
    "                 animation_frame='year', animation_group='country', \n",
    "                 log_x=True, size_max=60,  # Escala logarítmica para el eje X\n",
    "                 title='Esperanza de vida vs PIB per cápita (con animación)')\n",
    "\n",
    "fig.show()"
   ]
  },
  {
   "cell_type": "markdown",
   "metadata": {},
   "source": [
    "En este gráfico animado, los puntos representan diferentes países, el tamaño de los puntos refleja la población, y la animación muestra cómo cambian el PIB per cápita y la esperanza de vida a lo largo del tiempo.\n",
    "\n",
    "## Conclusión\n",
    "En este tutorial hemos cubierto las diversas formas en las que puedes utilizar **Plotly** para crear gráficos de dispersión, desde gráficos simples hasta gráficos 3D, con facetas, líneas de tendencia y animaciones. ¡Explora más personalizaciones y ajusta los gráficos según tus necesidades!"
   ]
  }
 ],
 "metadata": {
  "kernelspec": {
   "display_name": "Python 3",
   "language": "python",
   "name": "python3"
  },
  "language_info": {
   "codemirror_mode": {
    "name": "ipython",
    "version": 3
   },
   "file_extension": ".py",
   "mimetype": "text/x-python",
   "name": "python",
   "nbconvert_exporter": "python",
   "version": "3.8.5"
  }
 },
 "nbformat": 4,
 "nbformat_minor": 4
}
