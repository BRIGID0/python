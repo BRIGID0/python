{
 "cells": [
  {
   "cell_type": "markdown",
   "metadata": {},
   "source": [
    "# Tutorial Avanzado de Plotly\n",
    "\n",
    "Continuamos con el tutorial sobre **Plotly**. En esta sección, aprenderás cómo crear gráficos avanzados, tales como gráficos de líneas, de dispersión 3D, y cómo personalizarlos para obtener mejores visualizaciones.\n"
   ]
  },
  {
   "cell_type": "markdown",
   "metadata": {},
   "source": [
    "### 5. Gráfico de Líneas\n",
    "\n",
    "El gráfico de líneas es muy útil para visualizar datos continuos a lo largo del tiempo, como series temporales. Aquí crearemos un gráfico de líneas simple usando **Plotly Express**."
   ]
  },
  {
   "cell_type": "code",
   "execution_count": null,
   "metadata": {},
   "outputs": [],
   "source": [
    "import plotly.express as px\n",
    "import pandas as pd\n",
    "\n",
    "# Crear un DataFrame con datos de ejemplo\n",
    "datos = {\n",
    "    'Año': [2015, 2016, 2017, 2018, 2019, 2020],\n",
    "    'Ventas': [100, 150, 200, 250, 300, 350]\n",
    "}\n",
    "\n",
    "df = pd.DataFrame(datos)\n",
    "\n",
    "# Crear un gráfico de líneas\n",
    "fig = px.line(df, x='Año', y='Ventas', title='Ventas Anuales')\n",
    "\n",
    "# Mostrar el gráfico\n",
    "fig.show()"
   ]
  },
  {
   "cell_type": "markdown",
   "metadata": {},
   "source": [
    "### 6. Gráfico de Dispersión 3D\n",
    "\n",
    "Los gráficos de dispersión en 3D pueden ser muy útiles cuando quieres observar relaciones en tres dimensiones. Aquí crearemos un gráfico de dispersión en 3D."
   ]
  },
  {
   "cell_type": "code",
   "execution_count": null,
   "metadata": {},
   "outputs": [],
   "source": [
    "# Datos de ejemplo para gráfico de dispersión 3D\n",
    "datos_3d = {\n",
    "    'x': [1, 2, 3, 4, 5],\n",
    "    'y': [10, 11, 12, 13, 14],\n",
    "    'z': [5, 6, 7, 8, 9]\n",
    "}\n",
    "\n",
    "df_3d = pd.DataFrame(datos_3d)\n",
    "\n",
    "# Crear un gráfico de dispersión 3D\n",
    "fig_3d = px.scatter_3d(df_3d, x='x', y='y', z='z', title='Gráfico de Dispersión 3D')\n",
    "\n",
    "# Mostrar el gráfico\n",
    "fig_3d.show()"
   ]
  },
  {
   "cell_type": "markdown",
   "metadata": {},
   "source": [
    "### 7. Personalización de Gráficos\n",
    "\n",
    "Plotly permite personalizar los gráficos de muchas maneras. Puedes cambiar colores, tamaños, títulos y mucho más. Aquí veremos algunos ejemplos de personalización."
   ]
  },
  {
   "cell_type": "code",
   "execution_count": null,
   "metadata": {},
   "outputs": [],
   "source": [
    "# Personalización del gráfico de líneas\n",
    "fig.update_traces(line_color='green', line_width=4)\n",
    "\n",
    "# Cambiar títulos y etiquetas\n",
    "fig.update_layout(title='Ventas Anuales Personalizado',\n",
    "                  xaxis_title='Año',\n",
    "                  yaxis_title='Ventas')\n",
    "\n",
    "# Mostrar el gráfico personalizado\n",
    "fig.show()"
   ]
  },
  {
   "cell_type": "markdown",
   "metadata": {},
   "source": [
    "### 8. Guardar Gráficos como Imágenes\n",
    "\n",
    "También puedes guardar tus gráficos como imágenes en formato PNG o JPEG usando Plotly. Aquí te muestro cómo hacerlo."
   ]
  },
  {
   "cell_type": "code",
   "execution_count": null,
   "metadata": {},
   "outputs": [],
   "source": [
    "# Guardar el gráfico como una imagen\n",
    "fig.write_image(\"grafico_ventas.png\")\n",
    "\n",
    "# Necesitarás instalar el paquete 'kaleido' para exportar imágenes\n",
    "# Puedes instalarlo usando: pip install -U kaleido"
   ]
  }
 ],
 "metadata": {
  "kernelspec": {
   "display_name": "Python 3",
   "language": "python",
   "name": "python3"
  },
  "language_info": {
   "codemirror_mode": {
    "name": "ipython",
    "version": 3
   },
   "file_extension": ".py",
   "mimetype": "text/x-python",
   "name": "python",
   "nbconvert_exporter": "python",
   "version": "3.8.5"
  }
 },
 "nbformat": 4,
 "nbformat_minor": 4
}
