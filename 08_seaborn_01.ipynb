{
 "cells": [
  {
   "cell_type": "markdown",
   "metadata": {},
   "source": [
    "# Tutorial de Seaborn para Principiantes\n",
    "\n",
    "Seaborn es una librería de visualización de datos basada en Matplotlib. Ofrece una interfaz de alto nivel para gráficos estadísticos atractivos. En este tutorial, aprenderemos a crear algunos de los gráficos más comunes utilizando Seaborn."
   ]
  },
  {
   "cell_type": "markdown",
   "metadata": {},
   "source": [
    "## 1. Instalación y Carga de Seaborn\n",
    "\n",
    "Para instalar Seaborn, ejecuta el siguiente comando en tu terminal:\n",
    "\n",
    "```bash\n",
    "pip install seaborn\n",
    "```\n",
    "\n",
    "Luego, lo importamos junto con otras librerías necesarias como Matplotlib y Pandas."
   ]
  },
  {
   "cell_type": "code",
   "metadata": {},
   "source": [
    "import seaborn as sns\n",
    "import matplotlib.pyplot as plt\n",
    "import pandas as pd\n",
    "\n",
    "# Cargar un conjunto de datos de ejemplo\n",
    "data = sns.load_dataset('tips')  # Datos de propinas\n",
    "data.head()  # Mostrar las primeras filas del dataset"
   ]
  },
  {
   "cell_type": "markdown",
   "metadata": {},
   "source": [
    "Seaborn proporciona algunos conjuntos de datos de ejemplo, como el dataset `tips` que contiene información sobre propinas en un restaurante."
   ]
  },
  {
   "cell_type": "markdown",
   "metadata": {},
   "source": [
    "## 2. Gráfico de Dispersión (Scatter Plot)\n",
    "\n",
    "Un gráfico de dispersión permite visualizar la relación entre dos variables numéricas."
   ]
  },
  {
   "cell_type": "code",
   "metadata": {},
   "source": [
    "# Crear un gráfico de dispersión\n",
    "sns.scatterplot(x='total_bill', y='tip', data=data)\n",
    "plt.title('Relación entre Total Bill y Tip')\n",
    "plt.show()"
   ]
  },
  {
   "cell_type": "markdown",
   "metadata": {},
   "source": [
    "Este gráfico muestra la relación entre el monto total de la cuenta (`total_bill`) y la propina (`tip`)."
   ]
  },
  {
   "cell_type": "markdown",
   "metadata": {},
   "source": [
    "## 3. Gráfico de Barras (Bar Plot)\n",
    "\n",
    "Seaborn facilita la creación de gráficos de barras, los cuales son útiles para visualizar agregaciones de datos categóricos."
   ]
  },
  {
   "cell_type": "code",
   "metadata": {},
   "source": [
    "# Gráfico de barras\n",
    "sns.barplot(x='day', y='total_bill', data=data)\n",
    "plt.title('Promedio de Total Bill por Día')\n",
    "plt.show()"
   ]
  },
  {
   "cell_type": "markdown",
   "metadata": {},
   "source": [
    "Este gráfico muestra el monto promedio de las cuentas por día de la semana (`day`)."
   ]
  },
  {
   "cell_type": "markdown",
   "metadata": {},
   "source": [
    "## 4. Gráfico de Cajas (Box Plot)\n",
    "\n",
    "El gráfico de cajas es útil para visualizar la distribución de datos, sus cuartiles y posibles valores atípicos."
   ]
  },
  {
   "cell_type": "code",
   "metadata": {},
   "source": [
    "# Gráfico de cajas\n",
    "sns.boxplot(x='day', y='total_bill', data=data)\n",
    "plt.title('Distribución de Total Bill por Día')\n",
    "plt.show()"
   ]
  },
  {
   "cell_type": "markdown",
   "metadata": {},
   "source": [
    "Este gráfico muestra la distribución del total de las cuentas según el día de la semana."
   ]
  },
  {
   "cell_type": "markdown",
   "metadata": {},
   "source": [
    "## 5. Gráfico de Violin (Violin Plot)\n",
    "\n",
    "El gráfico de violín combina aspectos de un gráfico de cajas y de un gráfico de densidad."
   ]
  },
  {
   "cell_type": "code",
   "metadata": {},
   "source": [
    "# Gráfico de violín\n",
    "sns.violinplot(x='day', y='total_bill', data=data)\n",
    "plt.title('Distribución de Total Bill por Día - Gráfico de Violín')\n",
    "plt.show()"
   ]
  },
  {
   "cell_type": "markdown",
   "metadata": {},
   "source": [
    "En este gráfico de violín puedes ver la distribución de los montos de las cuentas para cada día, junto con su densidad."
   ]
  },
  {
   "cell_type": "markdown",
   "metadata": {},
   "source": [
    "## 6. Mapa de Calor (Heatmap)\n",
    "\n",
    "Un mapa de calor es una manera visual de representar una matriz de datos, mostrando valores altos y bajos con colores diferentes."
   ]
  },
  {
   "cell_type": "code",
   "metadata": {},
   "source": [
    "# Mapa de calor de la correlación entre variables numéricas\n",
    "correlacion = data.corr()\n",
    "sns.heatmap(correlacion, annot=True, cmap='coolwarm', linewidths=0.5)\n",
    "plt.title('Mapa de Calor de Correlaciones')\n",
    "plt.show()"
   ]
  },
  {
   "cell_type": "markdown",
   "metadata": {},
   "source": [
    "En este mapa de calor, las correlaciones entre las variables numéricas se visualizan de manera clara."
   ]
  },
  {
   "cell_type": "markdown",
   "metadata": {},
   "source": [
    "## 7. Gráfico de Parejas (Pair Plot)\n",
    "\n",
    "El gráfico de parejas (`pairplot`) permite visualizar las relaciones entre todas las variables numéricas de un dataset."
   ]
  },
  {
   "cell_type": "code",
   "metadata": {},
   "source": [
    "# Gráfico de parejas\n",
    "sns.pairplot(data)\n",
    "plt.show()"
   ]
  },
  {
   "cell_type": "markdown",
   "metadata": {},
   "source": [
    "Este gráfico muestra la relación entre todas las variables numéricas del dataset `tips`."
   ]
  },
  {
   "cell_type": "markdown",
   "metadata": {},
   "source": [
    "## 8. Gráfico de Regresión (Regplot)\n",
    "\n",
    "El gráfico de regresión es útil para visualizar la relación entre dos variables, añadiendo una línea de ajuste lineal."
   ]
  },
  {
   "cell_type": "code",
   "metadata": {},
   "source": [
    "# Gráfico de regresión\n",
    "sns.regplot(x='total_bill', y='tip', data=data)\n",
    "plt.title('Regresión entre Total Bill y Tip')\n",
    "plt.show()"
   ]
  },
  {
   "cell_type": "markdown",
   "metadata": {},
   "source": [
    "Este gráfico incluye una línea de regresión para visualizar mejor la relación entre el total de la cuenta y la propina."
   ]
  },
  {
   "cell_type": "markdown",
   "metadata": {},
   "source": [
    "## Conclusión\n",
    "\n",
    "Seaborn proporciona herramientas potentes para visualizar datos de manera rápida y sencilla. Con estos ejemplos de gráficos, puedes comenzar a explorar tus propios datos y crear visualizaciones que ayuden a comprender mejor su estructura y patrones."
   ]
  }
 ],
 "metadata": {
  "kernelspec": {
   "display_name": "Python 3",
   "language": "python",
   "name": "python3"
  },
  "language_info": {
   "codemirror_mode": {
    "name": "ipython",
    "version": 3
   },
   "file_extension": ".py",
   "mimetype": "text/x-python",
   "name": "python",
   "nbconvert_exporter": "python",
   "version": "3.8.5"
  }
 },
 "nbformat": 4,
 "nbformat_minor": 4
}
