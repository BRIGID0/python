{
 "cells": [
  {
   "cell_type": "markdown",
   "metadata": {},
   "source": [
    "# Tutorial: Gráficos de Líneas en Plotly\n",
    "\n",
    "En este tutorial, exploraremos cómo crear gráficos de líneas en Plotly. Los gráficos de líneas son útiles para visualizar tendencias a lo largo del tiempo o para comparar valores continuos entre diferentes categorías."
   ]
  },
  {
   "cell_type": "markdown",
   "metadata": {},
   "source": [
    "## 1. Instalación de Plotly\n",
    "\n",
    "Para comenzar, si no tienes instalado Plotly, ejecuta el siguiente comando:\n",
    "\n",
    "```bash\n",
    "!pip install plotly\n",
    "```"
   ]
  },
  {
   "cell_type": "markdown",
   "metadata": {},
   "source": [
    "## 2. Importación de Librerías\n",
    "Primero, importemos las librerías necesarias."
   ]
  },
  {
   "cell_type": "code",
   "execution_count": 1,
   "metadata": {},
   "outputs": [],
   "source": [
    "import plotly.express as px\n",
    "import plotly.graph_objects as go\n",
    "import pandas as pd\n",
    "import numpy as np"
   ]
  },
  {
   "cell_type": "markdown",
   "metadata": {},
   "source": [
    "## 3. Crear un Gráfico de Líneas Básico con Plotly Express\n",
    "\n",
    "Comenzaremos con un gráfico de líneas básico utilizando un dataset integrado en Plotly."
   ]
  },
  {
   "cell_type": "code",
   "execution_count": 2,
   "metadata": {},
   "outputs": [],
   "source": [
    "# Cargar el dataset de px sobre el clima\n",
    "df = px.data.gapminder()\n",
    "\n",
    "# Filtrar para un solo país (Chile) y sus datos en años recientes\n",
    "df_chile = df[df['country'] == 'Chile']\n",
    "\n",
    "# Crear el gráfico de líneas\n",
    "fig = px.line(df_chile, x='year', y='gdpPercap', title='PIB per cápita de Chile a lo largo de los años')\n",
    "fig.show()"
   ]
  },
  {
   "cell_type": "markdown",
   "metadata": {},
   "source": [
    "### Explicación:\n",
    "- **df_chile**: Filtramos los datos para que solo contengan información de Chile.\n",
    "- **px.line()**: Creamos un gráfico de líneas, especificando las columnas `x` (eje x) y `y` (eje y).\n",
    "- **title**: Añadimos un título al gráfico."
   ]
  },
  {
   "cell_type": "markdown",
   "metadata": {},
   "source": [
    "## 4. Gráfico de Líneas con Múltiples Series\n",
    "\n",
    "Ahora crearemos un gráfico de líneas para varios países y compararemos su PIB per cápita."
   ]
  },
  {
   "cell_type": "code",
   "execution_count": 3,
   "metadata": {},
   "outputs": [],
   "source": [
    "# Filtrar datos para algunos países\n",
    "countries = ['Chile', 'Argentina', 'Brazil', 'Peru']\n",
    "df_selected = df[df['country'].isin(countries)]\n",
    "\n",
    "# Crear el gráfico de líneas\n",
    "fig = px.line(df_selected, x='year', y='gdpPercap', color='country',\n",
    "              title='PIB per cápita en América Latina (Chile, Argentina, Brasil, Perú)')\n",
    "fig.show()"
   ]
  },
  {
   "cell_type": "markdown",
   "metadata": {},
   "source": [
    "### Explicación:\n",
    "- **color='country'**: Esta opción añade una línea para cada país, diferenciándolos por colores."
   ]
  },
  {
   "cell_type": "markdown",
   "metadata": {},
   "source": [
    "## 5. Gráfico de Líneas con Estilos Personalizados\n",
    "A veces queremos personalizar el estilo de las líneas o añadir diferentes elementos visuales."
   ]
  },
  {
   "cell_type": "code",
   "execution_count": 4,
   "metadata": {},
   "outputs": [],
   "source": [
    "# Crear un gráfico de líneas personalizado\n",
    "fig = go.Figure()\n",
    "\n",
    "# Añadir líneas para cada país\n",
    "for country in countries:\n",
    "    df_country = df[df['country'] == country]\n",
    "    fig.add_trace(go.Scatter(x=df_country['year'], y=df_country['gdpPercap'], mode='lines+markers',\n",
    "                             name=country, line=dict(width=2), marker=dict(size=6)))\n",
    "\n",
    "# Personalizar el gráfico\n",
    "fig.update_layout(title='PIB per cápita con líneas personalizadas',\n",
    "                  xaxis_title='Año',\n",
    "                  yaxis_title='PIB per cápita',\n",
    "                  hovermode='x')\n",
    "\n",
    "fig.show()"
   ]
  },
  {
   "cell_type": "markdown",
   "metadata": {},
   "source": [
    "### Explicación:\n",
    "- **go.Figure()**: Utilizamos `graph_objects` para tener más control sobre la personalización.\n",
    "- **go.Scatter()**: Añadimos tanto líneas como marcadores (`lines+markers`).\n",
    "- **update_layout()**: Personalizamos títulos y otros elementos."
   ]
  },
  {
   "cell_type": "markdown",
   "metadata": {},
   "source": [
    "## 6. Gráfico de Líneas con Relleno entre Líneas\n",
    "También podemos crear gráficos con áreas rellenas para enfatizar la diferencia entre series de datos."
   ]
  },
  {
   "cell_type": "code",
   "execution_count": 5,
   "metadata": {},
   "outputs": [],
   "source": [
    "# Crear el gráfico de líneas con área rellena\n",
    "fig = go.Figure()\n",
    "\n",
    "# Añadir líneas con relleno\n",
    "for country in countries:\n",
    "    df_country = df[df['country'] == country]\n",
    "    fig.add_trace(go.Scatter(x=df_country['year'], y=df_country['gdpPercap'], mode='lines',\n",
    "                             name=country, fill='tonexty'))\n",
    "\n",
    "# Personalizar el gráfico\n",
    "fig.update_layout(title='Gráfico de líneas con área rellena',\n",
    "                  xaxis_title='Año',\n",
    "                  yaxis_title='PIB per cápita')\n",
    "\n",
    "fig.show()"
   ]
  },
  {
   "cell_type": "markdown",
   "metadata": {},
   "source": [
    "### Explicación:\n",
    "- **fill='tonexty'**: Esta opción rellena el área entre la línea actual y la línea anterior."
   ]
  },
  {
   "cell_type": "markdown",
   "metadata": {},
   "source": [
    "## 7. Conclusión\n",
    "En este tutorial, hemos explorado diferentes maneras de crear gráficos de líneas en Plotly, incluyendo gráficos básicos, con múltiples series, con estilos personalizados y con áreas rellenas. Los gráficos de líneas son una excelente herramienta para analizar tendencias a lo largo del tiempo y comparar series de datos."
   ]
  }
 ],
 "metadata": {
  "kernelspec": {
   "display_name": "Python 3",
   "language": "python",
   "name": "python3"
  },
  "language_info": {
   "name": "python",
   "version": "3.8.5"
  }
 },
 "nbformat": 4,
 "nbformat_minor": 4
}
