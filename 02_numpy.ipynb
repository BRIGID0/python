{
 "cells": [
  {
   "cell_type": "markdown",
   "metadata": {},
   "source": [
    "# Aprende NumPy - Guía para Principiantes (Parte 2)\n",
    "\n",
    "Esta es la segunda parte de la guía para aprender NumPy. Aquí exploraremos conceptos más avanzados como la generación de números aleatorios, la manipulación de matrices, y más.\n",
    "\n",
    "## Tabla de Contenidos:\n",
    "1. [Números Aleatorios](#numeros-aleatorios)\n",
    "2. [Operaciones con Matrices](#operaciones-matrices)\n",
    "3. [Concatenación y Apilamiento](#concatenacion-apilamiento)\n",
    "4. [Más Funciones Matemáticas](#mas-funciones)\n",
    "5. [Guardado y Carga de Arreglos](#guardado-carga)\n"
   ]
  },
  {
   "cell_type": "markdown",
   "metadata": {},
   "source": [
    "## Números Aleatorios <a id='numeros-aleatorios'></a>\n"
   ]
  },
  {
   "cell_type": "code",
   "execution_count": null,
   "metadata": {},
   "outputs": [],
   "source": [
    "# Generación de números aleatorios con NumPy\n",
    "# Generar un arreglo de 5 números aleatorios entre 0 y 1\n",
    "random_arr = np.random.rand(5)\n",
    "print(\"Arreglo de números aleatorios:\", random_arr)\n",
    "\n",
    "# Generar un arreglo de enteros aleatorios entre 10 y 20\n",
    "random_int_arr = np.random.randint(10, 20, size=5)\n",
    "print(\"Arreglo de enteros aleatorios:\", random_int_arr)\n",
    "\n",
    "# Generar una matriz de números aleatorios con distribución normal\n",
    "normal_arr = np.random.randn(3, 3)\n",
    "print(\"Matriz con distribución normal:\\n\", normal_arr)"
   ]
  },
  {
   "cell_type": "markdown",
   "metadata": {},
   "source": [
    "## Operaciones con Matrices <a id='operaciones-matrices'></a>\n"
   ]
  },
  {
   "cell_type": "code",
   "execution_count": null,
   "metadata": {},
   "outputs": [],
   "source": [
    "# Creando matrices para realizar operaciones\n",
    "matriz_a = np.array([[1, 2], [3, 4]])\n",
    "matriz_b = np.array([[5, 6], [7, 8]])\n",
    "\n",
    "# Suma de matrices\n",
    "suma_matrices = matriz_a + matriz_b\n",
    "print(\"Suma de matrices:\\n\", suma_matrices)\n",
    "\n",
    "# Producto de matrices (multiplicación de matrices)\n",
    "producto_matrices = np.dot(matriz_a, matriz_b)\n",
    "print(\"Producto de matrices (dot):\\n\", producto_matrices)\n",
    "\n",
    "# Transpuesta de una matriz\n",
    "transpuesta = matriz_a.T\n",
    "print(\"Transpuesta de matriz:\\n\", transpuesta)"
   ]
  },
  {
   "cell_type": "markdown",
   "metadata": {},
   "source": [
    "## Concatenación y Apilamiento <a id='concatenacion-apilamiento'></a>\n"
   ]
  },
  {
   "cell_type": "code",
   "execution_count": null,
   "metadata": {},
   "outputs": [],
   "source": [
    "# Concatenación de arreglos\n",
    "arr1 = np.array([1, 2, 3])\n",
    "arr2 = np.array([4, 5, 6])\n",
    "\n",
    "# Concatenar dos arreglos en uno\n",
    "concatenado = np.concatenate((arr1, arr2))\n",
    "print(\"Arreglo concatenado:\", concatenado)\n",
    "\n",
    "# Apilar arreglos verticalmente\n",
    "apilado_vertical = np.vstack((arr1, arr2))\n",
    "print(\"Arreglos apilados verticalmente:\\n\", apilado_vertical)\n",
    "\n",
    "# Apilar arreglos horizontalmente\n",
    "apilado_horizontal = np.hstack((arr1, arr2))\n",
    "print(\"Arreglos apilados horizontalmente:\", apilado_horizontal)"
   ]
  },
  {
   "cell_type": "markdown",
   "metadata": {},
   "source": [
    "## Más Funciones Matemáticas <a id='mas-funciones'></a>\n"
   ]
  },
  {
   "cell_type": "code",
   "execution_count": null,
   "metadata": {},
   "outputs": [],
   "source": [
    "# Usando funciones matemáticas adicionales\n",
    "arr = np.array([1, 2, 3, 4, 5])\n",
    "\n",
    "# Calcular la suma acumulada (cumsum)\n",
    "suma_acumulada = np.cumsum(arr)\n",
    "print(\"Suma acumulada:\", suma_acumulada)\n",
    "\n",
    "# Calcular el producto acumulado (cumprod)\n",
    "producto_acumulado = np.cumprod(arr)\n",
    "print(\"Producto acumulado:\", producto_acumulado)\n",
    "\n",
    "# Logaritmo de un arreglo\n",
    "log_arr = np.log(arr)\n",
    "print(\"Logaritmo del arreglo:\", log_arr)"
   ]
  },
  {
   "cell_type": "markdown",
   "metadata": {},
   "source": [
    "## Guardado y Carga de Arreglos <a id='guardado-carga'></a>\n"
   ]
  },
  {
   "cell_type": "code",
   "execution_count": null,
   "metadata": {},
   "outputs": [],
   "source": [
    "# Guardando un arreglo a un archivo\n",
    "arr = np.array([10, 20, 30, 40, 50])\n",
    "np.save('mi_arreglo.npy', arr)\n",
    "print(\"Arreglo guardado en 'mi_arreglo.npy'\")\n",
    "\n",
    "# Cargando un arreglo desde un archivo\n",
    "arr_cargado = np.load('mi_arreglo.npy')\n",
    "print(\"Arreglo cargado:\", arr_cargado)"
   ]
  }
 ],
 "metadata": {
  "kernelspec": {
   "display_name": "Python 3 (ipykernel)",
   "language": "python",
   "name": "python3"
  },
  "language_info": {
   "codemirror_mode": {
    "name": "ipython",
    "version": 3
   },
   "file_extension": ".py",
   "mimetype": "text/x-python",
   "name": "python",
   "nbconvert_exporter": "python",
   "pygments_lexer": "ipython3",
   "version": "3.11.9"
  }
 },
 "nbformat": 4,
 "nbformat_minor": 4
}
