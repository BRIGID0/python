{
 "cells": [
  {
   "cell_type": "markdown",
   "metadata": {},
   "source": [
    "# Introducción a Machine Learning\n",
    "En esta lección, aprenderemos los conceptos básicos de machine learning, incluyendo los tipos de aprendizaje, los modelos de regresión lineal y logística, y las etapas del modelamiento en machine learning.\n"
   ]
  },
  {
   "cell_type": "markdown",
   "metadata": {},
   "source": [
    "## 1. Tipos de aprendizaje\n",
    "Existen tres tipos principales de aprendizaje en machine learning:\n",
    "- **Aprendizaje supervisado**: El modelo aprende de datos etiquetados. Se usan ejemplos de entrada y su correspondiente salida correcta para predecir las salidas de nuevos datos. Ejemplos: regresión lineal, árboles de decisión.\n",
    "- **Aprendizaje no supervisado**: El modelo trabaja con datos no etiquetados, buscando patrones o agrupaciones en los datos. Ejemplos: clustering con k-medias, análisis de componentes principales (PCA).\n",
    "- **Aprendizaje por refuerzo**: Un agente interactúa con un entorno y aprende de las consecuencias de sus acciones mediante un sistema de recompensas y castigos.\n"
   ]
  },
  {
   "cell_type": "markdown",
   "metadata": {},
   "source": [
    "### Ejemplo visual de aprendizaje supervisado\n",
    "Vamos a generar un ejemplo de aprendizaje supervisado con un conjunto de datos sencillo, usando regresión lineal para predecir una variable.\n"
   ]
  },
  {
   "cell_type": "code",
   "metadata": {},
   "source": [
    "# Importamos las bibliotecas necesarias\n",
    "import numpy as np\n",
    "import matplotlib.pyplot as plt\n",
    "from sklearn.linear_model import LinearRegression\n",
    "\n",
    "# Creamos datos de ejemplo\n",
    "np.random.seed(0)\n",
    "X = 2 * np.random.rand(100, 1)\n",
    "y = 4 + 3 * X + np.random.randn(100, 1)\n",
    "\n",
    "# Creamos el modelo de regresión lineal\n",
    "lin_reg = LinearRegression()\n",
    "lin_reg.fit(X, y)\n",
    "\n",
    "# Hacemos predicciones\n",
    "X_new = np.array([[0], [2]])\n",
    "y_predict = lin_reg.predict(X_new)\n",
    "\n",
    "# Visualizamos los datos y la línea de regresión\n",
    "plt.plot(X_new, y_predict, \"r-\", label=\"Predicción\")\n",
    "plt.scatter(X, y)\n",
    "plt.xlabel(\"X\")\n",
    "plt.ylabel(\"y\")\n",
    "plt.title(\"Regresión Lineal - Aprendizaje Supervisado\")\n",
    "plt.legend()\n",
    "plt.show()"
   ]
  },
  {
   "cell_type": "markdown",
   "metadata": {},
   "source": [
    "## 2. Modelos de regresión lineal y logística\n",
    "**Regresión Lineal**: Es un método para predecir una variable continua a partir de una o más variables independientes.\n",
    "\n",
    "**Regresión Logística**: Es un modelo usado para la clasificación binaria, donde la variable dependiente es categórica (por ejemplo, 0 o 1).\n",
    "\n",
    "### Ejemplo de regresión logística\n",
    "Vamos a realizar un ejemplo usando un modelo de regresión logística para clasificar datos binarios.\n"
   ]
  },
  {
   "cell_type": "code",
   "metadata": {},
   "source": [
    "# Importamos las bibliotecas necesarias\n",
    "from sklearn.model_selection import train_test_split\n",
    "from sklearn.linear_model import LogisticRegression\n",
    "from sklearn.datasets import make_classification\n",
    "from sklearn.metrics import classification_report\n",
    "\n",
    "# Generamos un conjunto de datos sintéticos para clasificación binaria\n",
    "X, y = make_classification(n_samples=100, n_features=2, n_classes=2, random_state=42)\n",
    "\n",
    "# Dividimos los datos en conjunto de entrenamiento y prueba\n",
    "X_train, X_test, y_train, y_test = train_test_split(X, y, test_size=0.3, random_state=42)\n",
    "\n",
    "# Creamos el modelo de regresión logística\n",
    "log_reg = LogisticRegression()\n",
    "log_reg.fit(X_train, y_train)\n",
    "\n",
    "# Hacemos predicciones\n",
    "y_pred = log_reg.predict(X_test)\n",
    "\n",
    "# Imprimimos un reporte de clasificación\n",
    "print(classification_report(y_test, y_pred))"
   ]
  },
  {
   "cell_type": "markdown",
   "metadata": {},
   "source": [
    "## 3. Etapas del modelamiento en machine learning\n",
    "El proceso de machine learning incluye las siguientes etapas:\n",
    "1. **Recolección de datos**: Obtención de los datos necesarios para entrenar el modelo.\n",
    "2. **Preprocesamiento de los datos**: Limpieza, normalización y transformación de los datos en un formato adecuado para el modelo.\n",
    "3. **División de los datos**: División del conjunto de datos en conjunto de entrenamiento y prueba.\n",
    "4. **Selección del modelo**: Elegir el modelo más adecuado según el problema.\n",
    "5. **Entrenamiento del modelo**: Ajuste del modelo usando el conjunto de entrenamiento.\n",
    "6. **Evaluación del modelo**: Medir el rendimiento del modelo usando el conjunto de prueba.\n",
    "7. **Ajuste del modelo**: Mejorar el modelo con ajustes adicionales (hiperparámetros, regularización, etc.).\n"
   ]
  },
  {
   "cell_type": "markdown",
   "metadata": {},
   "source": [
    "### Visualización de las etapas del modelamiento\n",
    "Podemos visualizar el proceso de machine learning como un ciclo iterativo, donde el modelo es refinado con base en la evaluación de su rendimiento en nuevos datos."
   ]
  },
  {
   "cell_type": "code",
   "metadata": {},
   "source": [
    "# Dibujamos un diagrama simple de las etapas del machine learning\n",
    "import matplotlib.pyplot as plt\n",
    "import networkx as nx\n",
    "\n",
    "# Creamos el gráfico\n",
    "G = nx.DiGraph()\n",
    "etapas = [\"Recolección de datos\", \"Preprocesamiento\", \"División de datos\", \"Selección del modelo\", \"Entrenamiento\", \"Evaluación\", \"Ajuste del modelo\"]\n",
    "G.add_edges_from([(etapas[i], etapas[i+1]) for i in range(len(etapas)-1)])\n",
    "\n",
    "# Dibujamos el gráfico\n",
    "pos = nx.spring_layout(G)\n",
    "nx.draw(G, pos, with_labels=True, node_color='lightblue', node_size=2000, font_size=10, font_weight='bold', arrows=True)\n",
    "plt.title('Ciclo de etapas del modelamiento en Machine Learning')\n",
    "plt.show()"
   ]
  }
 ],
 "metadata": {
  "kernelspec": {
   "display_name": "Python 3",
   "language": "python",
   "name": "python3"
  },
  "language_info": {
   "name": "python",
   "version": "3.8"
  }
 },
 "nbformat": 4,
 "nbformat_minor": 5
}
