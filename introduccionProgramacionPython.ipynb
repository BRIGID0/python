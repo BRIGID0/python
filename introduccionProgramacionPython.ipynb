{
  "cells": [
    {
      "cell_type": "markdown",
      "metadata": {
        "id": "94yLflb89dHZ"
      },
      "source": [
        "# Curso de Desarrollo de Algoritmos y Programación en Python\n",
        "\n",
        "Este curso revisará conceptos fundamentales para el desarrollo de algoritmos y su programación en computadores utilizando Python. A continuación, se presentan los temas que se abordarán en el curso."
      ]
    },
    {
      "cell_type": "markdown",
      "metadata": {
        "id": "13-ur03w9dHa"
      },
      "source": [
        "## Estructuras de Datos Secuenciales\n",
        "\n",
        "### Listas\n",
        "Las listas en Python son colecciones ordenadas de elementos que pueden ser de diferentes tipos. Se pueden modificar y tienen un tamaño dinámico.\n",
        "\n",
        "#### Ejemplo:\n",
        "```python\n",
        "mi_lista = [1, 2, 3, 4, 5]\n",
        "mi_lista.append(6)  # Agrega un elemento al final de la lista\n",
        "print(mi_lista)  # Salida: [1, 2, 3, 4, 5, 6]\n",
        "```\n",
        "\n",
        "### Tuplas\n",
        "Las tuplas son similares a las listas, pero son inmutables, lo que significa que no se pueden cambiar una vez creadas.\n",
        "\n",
        "#### Ejemplo:\n",
        "```python\n",
        "mi_tupla = (1, 2, 3)\n",
        "print(mi_tupla[1])  # Salida: 2\n",
        "```\n",
        "\n",
        "### Stacks\n",
        "Los stacks (pilas) son estructuras de datos que siguen el principio LIFO (Last In, First Out).\n",
        "\n",
        "#### Ejemplo:\n",
        "```python\n",
        "stack = []\n",
        "stack.append(1)\n",
        "stack.append(2)\n",
        "ultimo = stack.pop()  # Elimina y retorna el último elemento agregado\n",
        "print(ultimo)  # Salida: 2\n",
        "```\n",
        "\n",
        "### Colas\n",
        "Las colas son estructuras de datos que siguen el principio FIFO (First In, First Out).\n",
        "\n",
        "#### Ejemplo:\n",
        "```python\n",
        "from collections import deque\n",
        "\n",
        "cola = deque()\n",
        "cola.append(1)\n",
        "cola.append(2)\n",
        "primero = cola.popleft()  # Elimina y retorna el primer elemento agregado\n",
        "print(primero)  # Salida: 1\n",
        "```\n"
      ]
    },
    {
      "cell_type": "code",
      "source": [],
      "metadata": {
        "id": "FcALCjqY95w3"
      },
      "execution_count": null,
      "outputs": []
    },
    {
      "cell_type": "code",
      "source": [],
      "metadata": {
        "id": "w0wn9Sb394zK"
      },
      "execution_count": null,
      "outputs": []
    },
    {
      "cell_type": "markdown",
      "metadata": {
        "id": "XU_38vrI9dHb"
      },
      "source": [
        "## Estructuras de Datos No Secuenciales\n",
        "\n",
        "### Sets\n",
        "Los sets son colecciones no ordenadas de elementos únicos. Son útiles para eliminar duplicados y realizar operaciones de conjuntos.\n",
        "\n",
        "#### Ejemplo:\n",
        "```python\n",
        "mi_set = {1, 2, 3, 4, 4}\n",
        "print(mi_set)  # Salida: {1, 2, 3, 4}\n",
        "```\n",
        "\n",
        "### Diccionarios\n",
        "Los diccionarios son estructuras que almacenan pares clave-valor, permitiendo un acceso rápido a los datos.\n",
        "\n",
        "#### Ejemplo:\n",
        "```python\n",
        "mi_diccionario = {'nombre': 'Juan', 'edad': 30}\n",
        "print(mi_diccionario['nombre'])  # Salida: Juan\n",
        "```\n"
      ]
    },
    {
      "cell_type": "markdown",
      "metadata": {
        "id": "Hao-1rKS9dHb"
      },
      "source": [
        "## Programación Orientada a Objetos\n",
        "\n",
        "### Construyendo Nuestros Propios Tipos de Datos\n",
        "En Python, podemos definir nuestras propias clases y tipos de datos.\n",
        "\n",
        "#### Ejemplo:\n",
        "```python\n",
        "class Persona:\n",
        "    def __init__(self, nombre, edad):\n",
        "        self.nombre = nombre\n",
        "        self.edad = edad\n",
        "\n",
        "    def saludar(self):\n",
        "        print(f'Hola, soy {self.nombre} y tengo {self.edad} años.')\n",
        "\n",
        "persona = Persona('Ana', 25)\n",
        "persona.saludar()  # Salida: Hola, soy Ana y tengo 25 años.\n",
        "```\n",
        "\n",
        "### Clases, Objetos, Atributos y Métodos\n",
        "Las clases son plantillas para crear objetos, y cada objeto tiene atributos (propiedades) y métodos (funciones).\n",
        "\n",
        "### Interacción entre Objetos\n",
        "Los objetos pueden interactuar entre sí mediante métodos que permiten la comunicación.\n",
        "\n",
        "### Herencia\n",
        "La herencia permite crear nuevas clases basadas en clases existentes, reutilizando código.\n",
        "\n",
        "#### Ejemplo:\n",
        "```python\n",
        "class Estudiante(Persona):\n",
        "    def __init__(self, nombre, edad, carrera):\n",
        "        super().__init__(nombre, edad)\n",
        "        self.carrera = carrera\n",
        "\n",
        "    def presentar(self):\n",
        "        print(f'Soy {self.nombre}, estudio {self.carrera}.')\n",
        "\n",
        "estudiante = Estudiante('Carlos', 22, 'Ingeniería')\n",
        "estudiante.presentar()  # Salida: Soy Carlos, estudio Ingeniería.\n",
        "```\n",
        "\n",
        "### Overriding de Métodos\n",
        "Se refiere a redefinir un método en una subclase que ya ha sido definido en la clase padre.\n",
        "\n",
        "#### Ejemplo:\n",
        "```python\n",
        "class Estudiante(Persona):\n",
        "    def saludar(self):\n",
        "        print(f'Hola, soy {self.nombre} y estudio {self.carrera}.')\n",
        "```\n"
      ]
    },
    {
      "cell_type": "markdown",
      "metadata": {
        "id": "yyz2ODPE9dHb"
      },
      "source": [
        "## Recursión\n",
        "La recursión es un enfoque en programación donde una función se llama a sí misma para resolver problemas.\n",
        "\n",
        "### Funciones Recursivas\n",
        "Una función recursiva debe tener una condición de parada para evitar ciclos infinitos.\n",
        "\n",
        "#### Ejemplo:\n",
        "```python\n",
        "def factorial(n):\n",
        "    if n == 0:\n",
        "        return 1\n",
        "    else:\n",
        "        return n * factorial(n - 1)\n",
        "\n",
        "print(factorial(5))  # Salida: 120\n",
        "```\n",
        "\n",
        "### Ejemplos de Problemas Recursivos\n",
        "Algunos problemas que se pueden resolver mediante recursión incluyen:\n",
        "- Pintar mapas (backtracking)\n",
        "- Fractales como el triángulo de Sierpinski.\n",
        "\n",
        "#### Ejemplo de Fractales:\n",
        "```python\n",
        "def sierpinski_triangle(order, size):\n",
        "    if order == 0:\n",
        "        return [[1]]\n",
        "    else:\n",
        "        smaller_triangle = sierpinski_triangle(order - 1, size / 2)\n",
        "        return smaller_triangle + smaller_triangle\n",
        "\n",
        "# La implementación visual de fractales es más compleja y requiere bibliotecas de gráficos.\n",
        "```\n",
        "## Conclusiones\n",
        "Este curso ofrece una base sólida en programación y algoritmos utilizando Python. Con estos conocimientos, los estudiantes estarán mejor preparados para enfrentar problemas de programación más complejos."
      ]
    }
  ],
  "metadata": {
    "kernelspec": {
      "display_name": "Python 3",
      "language": "python",
      "name": "python3"
    },
    "language_info": {
      "codemirror_mode": {
        "name": "ipython",
        "version": 3
      },
      "file_extension": ".py",
      "mimetype": "text/x-python",
      "name": "python",
      "nbconvert_exporter": "python",
      "pygments_lexer": "ipython3",
      "version": "3.8.5"
    },
    "colab": {
      "provenance": []
    }
  },
  "nbformat": 4,
  "nbformat_minor": 0
}